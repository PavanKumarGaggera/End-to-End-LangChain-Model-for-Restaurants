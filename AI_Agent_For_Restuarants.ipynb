{
  "nbformat": 4,
  "nbformat_minor": 0,
  "metadata": {
    "colab": {
      "provenance": []
    },
    "kernelspec": {
      "name": "python3",
      "display_name": "Python 3"
    },
    "language_info": {
      "name": "python"
    }
  },
  "cells": [
    {
      "cell_type": "markdown",
      "source": [
        "# End-to-End-LangChain Model for restaurants"
      ],
      "metadata": {
        "id": "yt4ALeF6a9Tm"
      }
    },
    {
      "cell_type": "markdown",
      "source": [
        "## Importing All Necessary Libraries"
      ],
      "metadata": {
        "id": "FG450yeJbSU_"
      }
    },
    {
      "cell_type": "code",
      "source": [
        "import os\n",
        "from langchain_community.document_loaders import WebBaseLoader\n",
        "from langchain.text_splitter import CharacterTextSplitter\n",
        "from langchain.embeddings import HuggingFaceEmbeddings\n",
        "from langchain.vectorstores import FAISS\n",
        "from langchain.chains import ConversationalRetrievalChain\n",
        "from langchain.memory import ConversationBufferMemory\n",
        "from langchain.chat_models import ChatOpenAI\n",
        "import openai"
      ],
      "metadata": {
        "id": "lgjtoL24bWKf"
      },
      "execution_count": 5,
      "outputs": []
    },
    {
      "cell_type": "code",
      "source": [
        "os.environ[\"OPENAI_API_KEY\"] ="Your_api_key"
      ],
      "metadata": {
        "id": "xP4X5nNrbfqq"
      },
      "execution_count": 6,
      "outputs": []
    },
    {
      "cell_type": "code",
      "source": [
        "openai_api_key = os.getenv(\"OPENAI_API_KEY\")"
      ],
      "metadata": {
        "id": "wGL-UF3YcJqO"
      },
      "execution_count": 17,
      "outputs": []
    },
    {
      "cell_type": "code",
      "source": [
        "url = \"https://order.toasttab.com/online/ellys-brunch-and-cafe-norridge-5050-n-cumberland-ave\""
      ],
      "metadata": {
        "id": "EjwNt8ZfcMa2"
      },
      "execution_count": 22,
      "outputs": []
    },
    {
      "cell_type": "code",
      "source": [
        "loader = WebBaseLoader(url)"
      ],
      "metadata": {
        "id": "FLeAQ8RbdfVZ"
      },
      "execution_count": 23,
      "outputs": []
    },
    {
      "cell_type": "code",
      "source": [
        "raw_docs = loader.load()"
      ],
      "metadata": {
        "id": "MWQQ-E8kdqSi"
      },
      "execution_count": 24,
      "outputs": []
    },
    {
      "cell_type": "code",
      "source": [
        "text_splitter = CharacterTextSplitter(chunk_size=1000, chunk_overlap=0)\n",
        "documents = text_splitter.split_documents(raw_docs)"
      ],
      "metadata": {
        "id": "SfniZnPsdrz-"
      },
      "execution_count": 25,
      "outputs": []
    },
    {
      "cell_type": "code",
      "source": [
        "embeddings = HuggingFaceEmbeddings(model_name=\"sentence-transformers/all-MiniLM-L6-v2\")"
      ],
      "metadata": {
        "id": "N2Gz1VoVdwTU"
      },
      "execution_count": 26,
      "outputs": []
    },
    {
      "cell_type": "code",
      "source": [
        "vectorstore = FAISS.from_documents(documents, embeddings)"
      ],
      "metadata": {
        "id": "eztLWLrTd0_j"
      },
      "execution_count": 27,
      "outputs": []
    },
    {
      "cell_type": "code",
      "source": [
        "memory = ConversationBufferMemory(memory_key=\"chat_history\", return_messages=True)"
      ],
      "metadata": {
        "id": "ghK4Ngy0d9n0"
      },
      "execution_count": 28,
      "outputs": []
    },
    {
      "cell_type": "code",
      "source": [
        "qa = ConversationalRetrievalChain.from_llm(ChatOpenAI(openai_api_key = openai_api_key,\n",
        "                                                      model = \"gpt-4o\",\n",
        "                                                      temperature=0),\n",
        "                                           vectorstore.as_retriever(),\n",
        "                                           memory=memory)"
      ],
      "metadata": {
        "id": "gtFSiAxHeDqz"
      },
      "execution_count": 29,
      "outputs": []
    },
    {
      "cell_type": "code",
      "source": [
        "query = \"I like tangy and citrus flavors. Any recommendations?\""
      ],
      "metadata": {
        "id": "QrAFBH8wffjU"
      },
      "execution_count": 33,
      "outputs": []
    },
    {
      "cell_type": "code",
      "source": [
        "result = qa({'question':query})"
      ],
      "metadata": {
        "id": "oPXLOnvEfz23"
      },
      "execution_count": 34,
      "outputs": []
    },
    {
      "cell_type": "code",
      "source": [
        "result[\"answer\"]"
      ],
      "metadata": {
        "colab": {
          "base_uri": "https://localhost:8080/",
          "height": 122
        },
        "id": "dTvDaLwef2Rx",
        "outputId": "5ae4a855-3b28-4192-8071-70fa0a714a3d"
      },
      "execution_count": 35,
      "outputs": [
        {
          "output_type": "execute_result",
          "data": {
            "text/plain": [
              "'Certainly! Here are a few dishes that incorporate tangy and citrus flavors:\\n\\n1. **Ceviche**: A refreshing dish made with fresh fish or seafood marinated in citrus juices, typically lime or lemon, and mixed with onions, cilantro, and chili peppers.\\n\\n2. **Lemon Chicken Piccata**: A classic Italian dish featuring chicken breasts cooked in a tangy lemon and caper sauce.\\n\\n3. **Citrus Salad**: A vibrant salad made with a mix of citrus fruits like oranges, grapefruits, and lemons, often combined with greens, avocado, and a light vinaigrette.\\n\\n4. **Key Lime Pie**: A dessert with a tangy lime filling made from key lime juice, sweetened condensed milk, and egg yolks, set in a graham cracker crust.\\n\\n5. **Lemon Risotto**: A creamy risotto dish infused with lemon zest and juice, often paired with herbs like thyme or basil.\\n\\n6. **Orange Chicken**: A popular dish in Chinese cuisine, featuring crispy chicken pieces coated in a sweet and tangy orange sauce.\\n\\n7. **Margarita**: A classic cocktail made with tequila, lime juice, and orange liqueur, served with a salted rim.\\n\\nThese dishes should satisfy your craving for tangy and citrus flavors!'"
            ],
            "application/vnd.google.colaboratory.intrinsic+json": {
              "type": "string"
            }
          },
          "metadata": {},
          "execution_count": 35
        }
      ]
    },
    {
      "cell_type": "code",
      "source": [],
      "metadata": {
        "id": "kFUGwKAif3tU"
      },
      "execution_count": null,
      "outputs": []
    }
  ]
}
